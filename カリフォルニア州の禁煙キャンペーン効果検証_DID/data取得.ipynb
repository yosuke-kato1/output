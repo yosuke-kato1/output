{
 "cells": [
  {
   "cell_type": "code",
   "execution_count": 1,
   "id": "1fdebe25-fc31-4183-a7ca-0d20f2ba440c",
   "metadata": {
    "collapsed": true,
    "jupyter": {
     "outputs_hidden": true
    },
    "tags": []
   },
   "outputs": [
    {
     "name": "stderr",
     "output_type": "stream",
     "text": [
      "Warning message:\n",
      "\"package 'Ecdat' was built under R version 4.3.3\"\n",
      "Loading required package: Ecfun\n",
      "\n",
      "Warning message:\n",
      "\"package 'Ecfun' was built under R version 4.3.3\"\n",
      "\n",
      "Attaching package: 'Ecfun'\n",
      "\n",
      "\n",
      "The following object is masked from 'package:base':\n",
      "\n",
      "    sign\n",
      "\n",
      "\n",
      "\n",
      "Attaching package: 'Ecdat'\n",
      "\n",
      "\n",
      "The following object is masked from 'package:datasets':\n",
      "\n",
      "    Orange\n",
      "\n",
      "\n"
     ]
    }
   ],
   "source": [
    "# library(tidyverse)\n",
    "library(Ecdat)"
   ]
  },
  {
   "cell_type": "code",
   "execution_count": 2,
   "id": "1f270d36-ef16-4868-ba7a-e3e58e7f2650",
   "metadata": {
    "tags": []
   },
   "outputs": [
    {
     "data": {
      "text/html": [
       "<table class=\"dataframe\">\n",
       "<caption>A data.frame: 6 × 9</caption>\n",
       "<thead>\n",
       "\t<tr><th></th><th scope=col>state</th><th scope=col>year</th><th scope=col>price</th><th scope=col>pop</th><th scope=col>pop16</th><th scope=col>cpi</th><th scope=col>ndi</th><th scope=col>sales</th><th scope=col>pimin</th></tr>\n",
       "\t<tr><th></th><th scope=col>&lt;int&gt;</th><th scope=col>&lt;int&gt;</th><th scope=col>&lt;dbl&gt;</th><th scope=col>&lt;dbl&gt;</th><th scope=col>&lt;dbl&gt;</th><th scope=col>&lt;dbl&gt;</th><th scope=col>&lt;dbl&gt;</th><th scope=col>&lt;dbl&gt;</th><th scope=col>&lt;dbl&gt;</th></tr>\n",
       "</thead>\n",
       "<tbody>\n",
       "\t<tr><th scope=row>1</th><td>1</td><td>63</td><td>28.6</td><td>3383</td><td>2236.5</td><td>30.6</td><td>1558.305</td><td>93.9</td><td>26.1</td></tr>\n",
       "\t<tr><th scope=row>2</th><td>1</td><td>64</td><td>29.8</td><td>3431</td><td>2276.7</td><td>31.0</td><td>1684.073</td><td>95.4</td><td>27.5</td></tr>\n",
       "\t<tr><th scope=row>3</th><td>1</td><td>65</td><td>29.8</td><td>3486</td><td>2327.5</td><td>31.5</td><td>1809.842</td><td>98.5</td><td>28.9</td></tr>\n",
       "\t<tr><th scope=row>4</th><td>1</td><td>66</td><td>31.5</td><td>3524</td><td>2369.7</td><td>32.4</td><td>1915.160</td><td>96.4</td><td>29.5</td></tr>\n",
       "\t<tr><th scope=row>5</th><td>1</td><td>67</td><td>31.6</td><td>3533</td><td>2393.7</td><td>33.4</td><td>2023.546</td><td>95.5</td><td>29.6</td></tr>\n",
       "\t<tr><th scope=row>6</th><td>1</td><td>68</td><td>35.6</td><td>3522</td><td>2405.2</td><td>34.8</td><td>2202.486</td><td>88.4</td><td>32.0</td></tr>\n",
       "</tbody>\n",
       "</table>\n"
      ],
      "text/latex": [
       "A data.frame: 6 × 9\n",
       "\\begin{tabular}{r|lllllllll}\n",
       "  & state & year & price & pop & pop16 & cpi & ndi & sales & pimin\\\\\n",
       "  & <int> & <int> & <dbl> & <dbl> & <dbl> & <dbl> & <dbl> & <dbl> & <dbl>\\\\\n",
       "\\hline\n",
       "\t1 & 1 & 63 & 28.6 & 3383 & 2236.5 & 30.6 & 1558.305 & 93.9 & 26.1\\\\\n",
       "\t2 & 1 & 64 & 29.8 & 3431 & 2276.7 & 31.0 & 1684.073 & 95.4 & 27.5\\\\\n",
       "\t3 & 1 & 65 & 29.8 & 3486 & 2327.5 & 31.5 & 1809.842 & 98.5 & 28.9\\\\\n",
       "\t4 & 1 & 66 & 31.5 & 3524 & 2369.7 & 32.4 & 1915.160 & 96.4 & 29.5\\\\\n",
       "\t5 & 1 & 67 & 31.6 & 3533 & 2393.7 & 33.4 & 2023.546 & 95.5 & 29.6\\\\\n",
       "\t6 & 1 & 68 & 35.6 & 3522 & 2405.2 & 34.8 & 2202.486 & 88.4 & 32.0\\\\\n",
       "\\end{tabular}\n"
      ],
      "text/markdown": [
       "\n",
       "A data.frame: 6 × 9\n",
       "\n",
       "| <!--/--> | state &lt;int&gt; | year &lt;int&gt; | price &lt;dbl&gt; | pop &lt;dbl&gt; | pop16 &lt;dbl&gt; | cpi &lt;dbl&gt; | ndi &lt;dbl&gt; | sales &lt;dbl&gt; | pimin &lt;dbl&gt; |\n",
       "|---|---|---|---|---|---|---|---|---|---|\n",
       "| 1 | 1 | 63 | 28.6 | 3383 | 2236.5 | 30.6 | 1558.305 | 93.9 | 26.1 |\n",
       "| 2 | 1 | 64 | 29.8 | 3431 | 2276.7 | 31.0 | 1684.073 | 95.4 | 27.5 |\n",
       "| 3 | 1 | 65 | 29.8 | 3486 | 2327.5 | 31.5 | 1809.842 | 98.5 | 28.9 |\n",
       "| 4 | 1 | 66 | 31.5 | 3524 | 2369.7 | 32.4 | 1915.160 | 96.4 | 29.5 |\n",
       "| 5 | 1 | 67 | 31.6 | 3533 | 2393.7 | 33.4 | 2023.546 | 95.5 | 29.6 |\n",
       "| 6 | 1 | 68 | 35.6 | 3522 | 2405.2 | 34.8 | 2202.486 | 88.4 | 32.0 |\n",
       "\n"
      ],
      "text/plain": [
       "  state year price pop  pop16  cpi  ndi      sales pimin\n",
       "1 1     63   28.6  3383 2236.5 30.6 1558.305 93.9  26.1 \n",
       "2 1     64   29.8  3431 2276.7 31.0 1684.073 95.4  27.5 \n",
       "3 1     65   29.8  3486 2327.5 31.5 1809.842 98.5  28.9 \n",
       "4 1     66   31.5  3524 2369.7 32.4 1915.160 96.4  29.5 \n",
       "5 1     67   31.6  3533 2393.7 33.4 2023.546 95.5  29.6 \n",
       "6 1     68   35.6  3522 2405.2 34.8 2202.486 88.4  32.0 "
      ]
     },
     "metadata": {},
     "output_type": "display_data"
    }
   ],
   "source": [
    "head(Cigar)"
   ]
  },
  {
   "cell_type": "code",
   "execution_count": 3,
   "id": "ccbd5800-c3c4-4527-9404-cead11b33127",
   "metadata": {
    "tags": []
   },
   "outputs": [],
   "source": [
    "write.csv(Cigar, \"./data/Cigar.csv\", row.names=FALSE)"
   ]
  }
 ],
 "metadata": {
  "kernelspec": {
   "display_name": "R",
   "language": "R",
   "name": "ir"
  },
  "language_info": {
   "codemirror_mode": "r",
   "file_extension": ".r",
   "mimetype": "text/x-r-source",
   "name": "R",
   "pygments_lexer": "r",
   "version": "4.3.1"
  }
 },
 "nbformat": 4,
 "nbformat_minor": 5
}
