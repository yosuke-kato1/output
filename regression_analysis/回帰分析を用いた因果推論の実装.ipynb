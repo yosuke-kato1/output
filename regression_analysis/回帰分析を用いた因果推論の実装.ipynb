{
 "cells": [
  {
   "cell_type": "markdown",
   "id": "36f8a7bc-cb58-4f87-a354-36cdb4dfc0e1",
   "metadata": {
    "tags": []
   },
   "source": [
    "# 概要\n",
    "- 下記の書籍の再現\n",
    "  - https://book.mynavi.jp/ec/products/detail/id=115805\n",
    "  - 4章 P74-80\n",
    "  - 上記に加えて、回帰分析ができるパッケージはsklearn・statsmodels・pingouinの3つがあるので、それぞれで実行して結果に差異がないか確認する\n",
    "- 分析の目的はテレビCMの視聴有無が購入量に与える影響を明らかにする\n",
    "- 下記のサンプルデータを作成する\n",
    "  - 年齢が高く女性のほうがテレビをよく見る\n",
    "  - 年齢が低く男性のほうが購入量が多い\n",
    "  - 真の平均介入効果を10（テレビCMを見たほうが購入量が10高い）\n",
    "- データ概要\n",
    "  - 結果変数：購入量\n",
    "  - 原因変数：テレビCM視聴\n",
    "  - 共変量:年齢、性別"
   ]
  },
  {
   "cell_type": "markdown",
   "id": "f6eebabf",
   "metadata": {},
   "source": [
    "# 使用するパッケージ（ライブラリと関数）を定義"
   ]
  },
  {
   "cell_type": "code",
   "execution_count": 1,
   "id": "2b8c1533",
   "metadata": {
    "tags": []
   },
   "outputs": [],
   "source": [
    "import random\n",
    "import numpy as np\n",
    "\n",
    "# 乱数のシート値を固定\n",
    "np.random.seed(1234)\n",
    "random.seed(1234)"
   ]
  },
  {
   "cell_type": "code",
   "execution_count": 2,
   "id": "4c42fa6a",
   "metadata": {
    "tags": []
   },
   "outputs": [],
   "source": [
    "# 標準正規分布の生成用\n",
    "from numpy.random import *\n",
    "\n",
    "# グラフの描画用\n",
    "import matplotlib.pyplot as plt\n",
    "\n",
    "# SciPy 平均0、分散1に正規化（標準化）関数\n",
    "import scipy.stats\n",
    "\n",
    "# シグモイド関数\n",
    "from scipy.special import expit\n",
    "\n",
    "# その他\n",
    "import pandas as pd"
   ]
  },
  {
   "cell_type": "markdown",
   "id": "042475f3-e8d4-4ead-9fd9-b285d83a26c0",
   "metadata": {
    "tags": []
   },
   "source": [
    "# サンプルデータ作成"
   ]
  },
  {
   "cell_type": "markdown",
   "id": "b3f73914-27f7-409e-8473-edf7d9c616ed",
   "metadata": {
    "tags": []
   },
   "source": [
    "### 原因変数と共変量作成"
   ]
  },
  {
   "cell_type": "code",
   "execution_count": 3,
   "id": "98b21154",
   "metadata": {
    "tags": []
   },
   "outputs": [],
   "source": [
    "# サンプルサイズ\n",
    "num_data = 200\n",
    "\n",
    "# 年齢\n",
    "x_1=randint(15, 76, num_data) # 15歳から75際の一様乱数\n",
    "\n",
    "# 性別（0を女性、1を男性とする）\n",
    "x_2=randint(0, 2, num_data) # 0 or 1の乱数\n",
    "\n",
    "# ノイズの生成（平均0、標準偏差1の正規分布[ガウス分布]）\n",
    "e_z=randn(num_data)"
   ]
  },
  {
   "cell_type": "markdown",
   "id": "59c5fff2-2517-4491-afaa-611ac821eaf0",
   "metadata": {},
   "source": [
    "### 結果変数の作成"
   ]
  },
  {
   "cell_type": "code",
   "execution_count": 4,
   "id": "ece400d9-8384-41a6-9bd5-724b6ce5dc90",
   "metadata": {
    "tags": []
   },
   "outputs": [],
   "source": [
    "# シグモイド関数に入れる部分\n",
    "z_base=x_1 + (1-x_2)*10 - 40 + 5*e_z\n",
    "## 年齢が高くなると1の確率が高くなる\n",
    "## 女性のほうが1の確率が高くなる[(1-x_2)*10の部分]\n",
    "## z_baseはシグモイド関数のx（横軸）の値\n",
    "\n",
    "# シグモイド関数を計算\n",
    "z_prob=expit(0.1*z_base)\n",
    "## z_probには0から1の間の数が入る\n",
    "## 係数aは0.1\n",
    "\n",
    "# テレビCMを見たかどうかの変数(0は見ていない、1は見た)\n",
    "Z=np.array([])\n",
    "\n",
    "for i in range(num_data):\n",
    "    Z_i=np.random.choice(2 # 0 or 1のどちらかを取得するという意味\n",
    "                         , size=1 # 1つの値だけ取得する\n",
    "                         , p=[1-z_prob[i], z_prob[i]] # 購入する確率(1が入る確率)がz_prob[i]\n",
    "                        )[0]\n",
    "    Z=np.append(Z, Z_i)"
   ]
  },
  {
   "cell_type": "code",
   "execution_count": 5,
   "id": "f65872ff",
   "metadata": {
    "tags": []
   },
   "outputs": [],
   "source": [
    "e_y=randn(num_data)\n",
    "\n",
    "Y=-x_1 + 30*x_2 + 10*Z + 80 + 10*e_y"
   ]
  },
  {
   "cell_type": "markdown",
   "id": "0bdd2c26-4084-4fb4-a73a-b8f5a6fa0565",
   "metadata": {
    "tags": []
   },
   "source": [
    "### データフレームにまとめる"
   ]
  },
  {
   "cell_type": "code",
   "execution_count": 6,
   "id": "1ec741a2",
   "metadata": {
    "tags": []
   },
   "outputs": [],
   "source": [
    "df=pd.DataFrame({'年齢':x_1\n",
    "                 , '性別':x_2\n",
    "                 , 'CMを見た':Z\n",
    "                 , '購入量':Y})"
   ]
  },
  {
   "cell_type": "markdown",
   "id": "4d727940-25b5-4cbd-9b4e-ab232745a7f9",
   "metadata": {
    "tags": []
   },
   "source": [
    "### 作成したデータの中身を確認"
   ]
  },
  {
   "cell_type": "code",
   "execution_count": 7,
   "id": "62440eda",
   "metadata": {
    "tags": []
   },
   "outputs": [
    {
     "data": {
      "text/html": [
       "<div>\n",
       "<style scoped>\n",
       "    .dataframe tbody tr th:only-of-type {\n",
       "        vertical-align: middle;\n",
       "    }\n",
       "\n",
       "    .dataframe tbody tr th {\n",
       "        vertical-align: top;\n",
       "    }\n",
       "\n",
       "    .dataframe thead th {\n",
       "        text-align: right;\n",
       "    }\n",
       "</style>\n",
       "<table border=\"1\" class=\"dataframe\">\n",
       "  <thead>\n",
       "    <tr style=\"text-align: right;\">\n",
       "      <th></th>\n",
       "      <th>件数</th>\n",
       "      <th>データ型</th>\n",
       "      <th>ユニーク件数</th>\n",
       "      <th>null件数</th>\n",
       "      <th>欠損の割合 (%)</th>\n",
       "    </tr>\n",
       "  </thead>\n",
       "  <tbody>\n",
       "    <tr>\n",
       "      <th>年齢</th>\n",
       "      <td>200</td>\n",
       "      <td>int32</td>\n",
       "      <td>58</td>\n",
       "      <td>0</td>\n",
       "      <td>0.0</td>\n",
       "    </tr>\n",
       "    <tr>\n",
       "      <th>性別</th>\n",
       "      <td>200</td>\n",
       "      <td>int32</td>\n",
       "      <td>2</td>\n",
       "      <td>0</td>\n",
       "      <td>0.0</td>\n",
       "    </tr>\n",
       "    <tr>\n",
       "      <th>CMを見た</th>\n",
       "      <td>200</td>\n",
       "      <td>float64</td>\n",
       "      <td>2</td>\n",
       "      <td>0</td>\n",
       "      <td>0.0</td>\n",
       "    </tr>\n",
       "    <tr>\n",
       "      <th>購入量</th>\n",
       "      <td>200</td>\n",
       "      <td>float64</td>\n",
       "      <td>200</td>\n",
       "      <td>0</td>\n",
       "      <td>0.0</td>\n",
       "    </tr>\n",
       "  </tbody>\n",
       "</table>\n",
       "</div>"
      ],
      "text/plain": [
       "        件数     データ型  ユニーク件数  null件数  欠損の割合 (%)\n",
       "年齢     200    int32      58       0        0.0\n",
       "性別     200    int32       2       0        0.0\n",
       "CMを見た  200  float64       2       0        0.0\n",
       "購入量    200  float64     200       0        0.0"
      ]
     },
     "execution_count": 7,
     "metadata": {},
     "output_type": "execute_result"
    }
   ],
   "source": [
    "pd.concat(\n",
    "    [df.count().rename('件数'),\n",
    "    df.dtypes.rename('データ型'),\n",
    "    df.nunique().rename('ユニーク件数'),\n",
    "    df.isnull().sum().rename('null件数'),\n",
    "    (df.isnull().sum() * 100 / df.shape[0]).rename('欠損の割合 (%)').round(2)],\n",
    "    axis=1\n",
    ")"
   ]
  },
  {
   "cell_type": "markdown",
   "id": "8288807e-2189-40c1-8cdc-0ecde021d2b3",
   "metadata": {
    "tags": []
   },
   "source": [
    "# 結果"
   ]
  },
  {
   "cell_type": "markdown",
   "id": "80e106eb-1579-4d6d-8b5f-10650441f3be",
   "metadata": {},
   "source": [
    "### 単純な購入量の平均値を比べる"
   ]
  },
  {
   "cell_type": "code",
   "execution_count": 8,
   "id": "b130688c-0528-4538-9ac8-56b225c8b26b",
   "metadata": {
    "tags": []
   },
   "outputs": [
    {
     "name": "stdout",
     "output_type": "stream",
     "text": [
      "年齢       55.836066\n",
      "性別        0.483607\n",
      "CMを見た     1.000000\n",
      "購入量      49.711478\n",
      "dtype: float64\n",
      "-------\n",
      "年齢       32.141026\n",
      "性別        0.692308\n",
      "CMを見た     0.000000\n",
      "購入量      68.827143\n",
      "dtype: float64\n"
     ]
    }
   ],
   "source": [
    "print(df[df['CMを見た']==1].mean())\n",
    "print('-------')\n",
    "print(df[df['CMを見た']==0].mean())"
   ]
  },
  {
   "cell_type": "markdown",
   "id": "966182b4-6db1-4f3a-85e2-4035a8bd375f",
   "metadata": {},
   "source": [
    "CMを見たほうが購入量が高いはずが、CMを見たほうが約20ほど低くなっている  \n",
    "年齢・性別の共変量によりうまく効果を推定できていないことがわかる"
   ]
  },
  {
   "cell_type": "markdown",
   "id": "aa3c1602-f00c-4c7b-9ffd-0e463e5465d8",
   "metadata": {},
   "source": [
    "### sklearnによる回帰分析"
   ]
  },
  {
   "cell_type": "code",
   "execution_count": 9,
   "id": "fc5df954-28fe-4dad-9e75-653eb3dd8df7",
   "metadata": {
    "tags": []
   },
   "outputs": [
    {
     "name": "stdout",
     "output_type": "stream",
     "text": [
      "係数： [-0.95817951 32.70149412 10.41327647]\n"
     ]
    }
   ],
   "source": [
    "from sklearn.linear_model import LinearRegression\n",
    "\n",
    "# 説明変数\n",
    "X=df[['年齢', '性別', 'CMを見た']]\n",
    "y=df['購入量']\n",
    "\n",
    "reg=LinearRegression().fit(X, y)\n",
    "\n",
    "print('係数：', reg.coef_)"
   ]
  },
  {
   "cell_type": "markdown",
   "id": "aa662d6a-929f-423e-a416-62ff1d4257e5",
   "metadata": {
    "tags": []
   },
   "source": [
    "CMを見たほうが約10高くなっており効果をうまく推定できていることがわかる"
   ]
  },
  {
   "cell_type": "markdown",
   "id": "ab716563-5fe5-4a0e-9730-11891f6a682e",
   "metadata": {
    "tags": []
   },
   "source": [
    "### statsmodelsによる回帰分析"
   ]
  },
  {
   "cell_type": "code",
   "execution_count": 10,
   "id": "fed02bb0-b10b-4dae-acf7-c30b49b81b9e",
   "metadata": {
    "tags": []
   },
   "outputs": [
    {
     "name": "stdout",
     "output_type": "stream",
     "text": [
      "                            OLS Regression Results                            \n",
      "==============================================================================\n",
      "Dep. Variable:                    購入量   R-squared:                       0.814\n",
      "Model:                            OLS   Adj. R-squared:                  0.811\n",
      "Method:                 Least Squares   F-statistic:                     285.8\n",
      "Date:                Tue, 09 Apr 2024   Prob (F-statistic):           2.70e-71\n",
      "Time:                        11:29:20   Log-Likelihood:                -745.28\n",
      "No. Observations:                 200   AIC:                             1499.\n",
      "Df Residuals:                     196   BIC:                             1512.\n",
      "Df Model:                           3                                         \n",
      "Covariance Type:            nonrobust                                         \n",
      "==============================================================================\n",
      "                 coef    std err          t      P>|t|      [0.025      0.975]\n",
      "------------------------------------------------------------------------------\n",
      "const         76.9845      2.125     36.221      0.000      72.793      81.176\n",
      "年齢            -0.9582      0.052    -18.544      0.000      -1.060      -0.856\n",
      "性別            32.7015      1.506     21.714      0.000      29.731      35.672\n",
      "CMを見た         10.4133      1.977      5.268      0.000       6.515      14.312\n",
      "==============================================================================\n",
      "Omnibus:                        0.946   Durbin-Watson:                   2.075\n",
      "Prob(Omnibus):                  0.623   Jarque-Bera (JB):                0.959\n",
      "Skew:                           0.008   Prob(JB):                        0.619\n",
      "Kurtosis:                       2.661   Cond. No.                         156.\n",
      "==============================================================================\n",
      "\n",
      "Notes:\n",
      "[1] Standard Errors assume that the covariance matrix of the errors is correctly specified.\n"
     ]
    }
   ],
   "source": [
    "import statsmodels.api as sm\n",
    "\n",
    "x_add_const=sm.add_constant(X)\n",
    "model_sm=sm.OLS(y,x_add_const).fit()\n",
    "print(model_sm.summary())"
   ]
  },
  {
   "cell_type": "markdown",
   "id": "5e4dc8e7-3726-4a89-a41d-fde0527cf800",
   "metadata": {},
   "source": [
    "sklearnと同じ結果になっている  \n",
    "また、係数だけでなく係数の標準誤差・P値などの統計情報も表示される"
   ]
  },
  {
   "cell_type": "markdown",
   "id": "85416d9d-f7ba-4681-aed2-06e64b48fcb8",
   "metadata": {
    "tags": []
   },
   "source": [
    "### pingouinによる回帰分析"
   ]
  },
  {
   "cell_type": "code",
   "execution_count": 11,
   "id": "2c6ed3ee-9cf4-40b8-9dd3-125a81f16d65",
   "metadata": {
    "tags": []
   },
   "outputs": [
    {
     "data": {
      "text/html": [
       "<div>\n",
       "<style scoped>\n",
       "    .dataframe tbody tr th:only-of-type {\n",
       "        vertical-align: middle;\n",
       "    }\n",
       "\n",
       "    .dataframe tbody tr th {\n",
       "        vertical-align: top;\n",
       "    }\n",
       "\n",
       "    .dataframe thead th {\n",
       "        text-align: right;\n",
       "    }\n",
       "</style>\n",
       "<table border=\"1\" class=\"dataframe\">\n",
       "  <thead>\n",
       "    <tr style=\"text-align: right;\">\n",
       "      <th></th>\n",
       "      <th>names</th>\n",
       "      <th>coef</th>\n",
       "      <th>se</th>\n",
       "      <th>T</th>\n",
       "      <th>pval</th>\n",
       "      <th>r2</th>\n",
       "      <th>adj_r2</th>\n",
       "      <th>CI[2.5%]</th>\n",
       "      <th>CI[97.5%]</th>\n",
       "    </tr>\n",
       "  </thead>\n",
       "  <tbody>\n",
       "    <tr>\n",
       "      <th>0</th>\n",
       "      <td>Intercept</td>\n",
       "      <td>76.984519</td>\n",
       "      <td>2.125428</td>\n",
       "      <td>36.220706</td>\n",
       "      <td>8.803100e-89</td>\n",
       "      <td>0.81394</td>\n",
       "      <td>0.811092</td>\n",
       "      <td>72.792874</td>\n",
       "      <td>81.176164</td>\n",
       "    </tr>\n",
       "    <tr>\n",
       "      <th>1</th>\n",
       "      <td>年齢</td>\n",
       "      <td>-0.958180</td>\n",
       "      <td>0.051670</td>\n",
       "      <td>-18.544147</td>\n",
       "      <td>5.339510e-45</td>\n",
       "      <td>0.81394</td>\n",
       "      <td>0.811092</td>\n",
       "      <td>-1.060080</td>\n",
       "      <td>-0.856279</td>\n",
       "    </tr>\n",
       "    <tr>\n",
       "      <th>2</th>\n",
       "      <td>性別</td>\n",
       "      <td>32.701494</td>\n",
       "      <td>1.506017</td>\n",
       "      <td>21.713895</td>\n",
       "      <td>4.733033e-54</td>\n",
       "      <td>0.81394</td>\n",
       "      <td>0.811092</td>\n",
       "      <td>29.731416</td>\n",
       "      <td>35.671572</td>\n",
       "    </tr>\n",
       "    <tr>\n",
       "      <th>3</th>\n",
       "      <td>CMを見た</td>\n",
       "      <td>10.413276</td>\n",
       "      <td>1.976754</td>\n",
       "      <td>5.267866</td>\n",
       "      <td>3.617649e-07</td>\n",
       "      <td>0.81394</td>\n",
       "      <td>0.811092</td>\n",
       "      <td>6.514838</td>\n",
       "      <td>14.311715</td>\n",
       "    </tr>\n",
       "  </tbody>\n",
       "</table>\n",
       "</div>"
      ],
      "text/plain": [
       "       names       coef        se          T          pval       r2    adj_r2   \n",
       "0  Intercept  76.984519  2.125428  36.220706  8.803100e-89  0.81394  0.811092  \\\n",
       "1         年齢  -0.958180  0.051670 -18.544147  5.339510e-45  0.81394  0.811092   \n",
       "2         性別  32.701494  1.506017  21.713895  4.733033e-54  0.81394  0.811092   \n",
       "3      CMを見た  10.413276  1.976754   5.267866  3.617649e-07  0.81394  0.811092   \n",
       "\n",
       "    CI[2.5%]  CI[97.5%]  \n",
       "0  72.792874  81.176164  \n",
       "1  -1.060080  -0.856279  \n",
       "2  29.731416  35.671572  \n",
       "3   6.514838  14.311715  "
      ]
     },
     "execution_count": 11,
     "metadata": {},
     "output_type": "execute_result"
    }
   ],
   "source": [
    "import pingouin as pg\n",
    "\n",
    "pg.linear_regression(X,y)"
   ]
  },
  {
   "cell_type": "markdown",
   "id": "2a37fe09-f443-4142-bc2d-63852efdf381",
   "metadata": {},
   "source": [
    "sklearn・statsmodelsと同じ結果になっている  \n",
    "また、係数だけでなく係数の標準誤差・P値などの統計情報も表示される  \n",
    "statsmodelsと異なる点は統計情報をテーブルデータで取得できる"
   ]
  },
  {
   "cell_type": "code",
   "execution_count": null,
   "id": "e1f873ef-610d-4820-a9ca-654b13f1c843",
   "metadata": {},
   "outputs": [],
   "source": []
  }
 ],
 "metadata": {
  "kernelspec": {
   "display_name": "Python 3 (ipykernel)",
   "language": "python",
   "name": "python3"
  },
  "language_info": {
   "codemirror_mode": {
    "name": "ipython",
    "version": 3
   },
   "file_extension": ".py",
   "mimetype": "text/x-python",
   "name": "python",
   "nbconvert_exporter": "python",
   "pygments_lexer": "ipython3",
   "version": "3.10.7"
  }
 },
 "nbformat": 4,
 "nbformat_minor": 5
}
